{
 "cells": [
  {
   "cell_type": "markdown",
   "metadata": {},
   "source": [
    "# Analyzing Portion of BTC Data"
   ]
  },
  {
   "cell_type": "markdown",
   "metadata": {},
   "source": [
    "Data used for analysis was a small sample of the first DAT file ~ 30 %\n",
    "\n",
    "Nodes: 545,889\n",
    "Relationships: 741,060\n",
    "Labels: {block, coinbase, tx, output, address} > 5 total\n",
    "Relationships: {reward, seeds, includes, out, unlock, locked, chain} > 7 total\n",
    "Properties: 18 total"
   ]
  },
  {
   "cell_type": "markdown",
   "metadata": {},
   "source": [
    "## Setup"
   ]
  },
  {
   "cell_type": "code",
   "execution_count": 91,
   "metadata": {},
   "outputs": [],
   "source": [
    "# Importing all necessary libraries\n",
    "import json\n",
    "from neo4j import GraphDatabase\n",
    "from py2neo import Graph\n",
    "from graphdatascience import GraphDataScience \n",
    "import pandas as pd"
   ]
  },
  {
   "cell_type": "code",
   "execution_count": 36,
   "metadata": {},
   "outputs": [],
   "source": [
    "# graph = Graph(uri='neo4j://localhost:7687', user=\"neo4j\", password=\"password\")\n",
    "# dbc = GraphDatabase.driver(uri = \"bolt://localhost:7687\", auth=(\"neo4j\", \"password\"))\n",
    "# sess = dbc.session(database=\"neo4j\")\n",
    "\n",
    "# Creating graph data science object\n",
    "gds = GraphDataScience(\"bolt://localhost:7687\" , auth=(\"neo4j\", \"password\"))"
   ]
  },
  {
   "cell_type": "code",
   "execution_count": 38,
   "metadata": {},
   "outputs": [
    {
     "name": "stdout",
     "output_type": "stream",
     "text": [
      "2.0.3\n"
     ]
    }
   ],
   "source": [
    "# Setting our database and checking version of gds tools\n",
    "gds.set_database(\"neo4j\")\n",
    "print(gds.version())"
   ]
  },
  {
   "cell_type": "code",
   "execution_count": 60,
   "metadata": {},
   "outputs": [],
   "source": [
    "# Projecting to in memory graph so we can use it in python\n",
    "relProj = {\n",
    "    \"relType\": {\n",
    "        \"type\": '*',\n",
    "        \"orientation\": 'UNDIRECTED',\n",
    "        \"properties\": {}\n",
    "    }\n",
    "}\n",
    "\n",
    "G, project_result = gds.graph.project(\"btc_graph\", \n",
    "                                      \"*\", \n",
    "                                      relProj)"
   ]
  },
  {
   "cell_type": "code",
   "execution_count": null,
   "metadata": {},
   "outputs": [],
   "source": [
    "# Can also retrieve projected in-memory graphs with this command\n",
    "# G = gds.graph.get(\"graphName\")"
   ]
  },
  {
   "cell_type": "code",
   "execution_count": 55,
   "metadata": {},
   "outputs": [
    {
     "data": {
      "text/plain": [
       "nodeProjection                {'__ALL__': {'label': '*', 'properties': {}}}\n",
       "relationshipProjection    {'relType': {'orientation': 'UNDIRECTED', 'agg...\n",
       "graphName                                                         btc_graph\n",
       "nodeCount                                                            545889\n",
       "relationshipCount                                                   1482120\n",
       "projectMillis                                                           684\n",
       "Name: 0, dtype: object"
      ]
     },
     "execution_count": 55,
     "metadata": {},
     "output_type": "execute_result"
    }
   ],
   "source": [
    "# Graph meta data\n",
    "project_result"
   ]
  },
  {
   "cell_type": "code",
   "execution_count": 56,
   "metadata": {},
   "outputs": [
    {
     "name": "stdout",
     "output_type": "stream",
     "text": [
      "18 MiB\n",
      "4.973652941144905e-06\n"
     ]
    }
   ],
   "source": [
    "# Other useful information\n",
    "print(G.memory_usage())\n",
    "print(G.density())"
   ]
  },
  {
   "cell_type": "markdown",
   "metadata": {},
   "source": [
    "## Louvain CD Algorithm"
   ]
  },
  {
   "cell_type": "markdown",
   "metadata": {},
   "source": [
    "One of the fastest modularity-based algorithms and also reveals a hierarchy of communities at different scales\n"
   ]
  },
  {
   "cell_type": "code",
   "execution_count": 99,
   "metadata": {},
   "outputs": [],
   "source": [
    "# Running Louvain CD Alogirthm\n",
    "louvain_df = gds.louvain.stream(G,  relationshipWeightProperty = None, includeIntermediateCommunities = False)"
   ]
  },
  {
   "cell_type": "code",
   "execution_count": 100,
   "metadata": {},
   "outputs": [
    {
     "data": {
      "text/html": [
       "<div>\n",
       "<style scoped>\n",
       "    .dataframe tbody tr th:only-of-type {\n",
       "        vertical-align: middle;\n",
       "    }\n",
       "\n",
       "    .dataframe tbody tr th {\n",
       "        vertical-align: top;\n",
       "    }\n",
       "\n",
       "    .dataframe thead th {\n",
       "        text-align: right;\n",
       "    }\n",
       "</style>\n",
       "<table border=\"1\" class=\"dataframe\">\n",
       "  <thead>\n",
       "    <tr style=\"text-align: right;\">\n",
       "      <th></th>\n",
       "      <th>communityId</th>\n",
       "      <th>communitySize</th>\n",
       "    </tr>\n",
       "  </thead>\n",
       "  <tbody>\n",
       "    <tr>\n",
       "      <th>5263</th>\n",
       "      <td>364460</td>\n",
       "      <td>15739</td>\n",
       "    </tr>\n",
       "    <tr>\n",
       "      <th>5371</th>\n",
       "      <td>388010</td>\n",
       "      <td>15602</td>\n",
       "    </tr>\n",
       "    <tr>\n",
       "      <th>4632</th>\n",
       "      <td>276310</td>\n",
       "      <td>13665</td>\n",
       "    </tr>\n",
       "    <tr>\n",
       "      <th>5659</th>\n",
       "      <td>494347</td>\n",
       "      <td>12865</td>\n",
       "    </tr>\n",
       "    <tr>\n",
       "      <th>5783</th>\n",
       "      <td>538533</td>\n",
       "      <td>12119</td>\n",
       "    </tr>\n",
       "    <tr>\n",
       "      <th>5517</th>\n",
       "      <td>439165</td>\n",
       "      <td>11898</td>\n",
       "    </tr>\n",
       "    <tr>\n",
       "      <th>5713</th>\n",
       "      <td>522408</td>\n",
       "      <td>11375</td>\n",
       "    </tr>\n",
       "    <tr>\n",
       "      <th>2281</th>\n",
       "      <td>92974</td>\n",
       "      <td>9513</td>\n",
       "    </tr>\n",
       "    <tr>\n",
       "      <th>5809</th>\n",
       "      <td>542184</td>\n",
       "      <td>9151</td>\n",
       "    </tr>\n",
       "    <tr>\n",
       "      <th>5171</th>\n",
       "      <td>343238</td>\n",
       "      <td>8835</td>\n",
       "    </tr>\n",
       "  </tbody>\n",
       "</table>\n",
       "</div>"
      ],
      "text/plain": [
       "      communityId  communitySize\n",
       "5263       364460          15739\n",
       "5371       388010          15602\n",
       "4632       276310          13665\n",
       "5659       494347          12865\n",
       "5783       538533          12119\n",
       "5517       439165          11898\n",
       "5713       522408          11375\n",
       "2281        92974           9513\n",
       "5809       542184           9151\n",
       "5171       343238           8835"
      ]
     },
     "execution_count": 100,
     "metadata": {},
     "output_type": "execute_result"
    }
   ],
   "source": [
    "# Creating a dataframe with the size of each community\n",
    "uniq_coms = sorted(list(set(louvain_df[\"communityId\"])))\n",
    "\n",
    "com_list = []\n",
    "size_list = []\n",
    "\n",
    "for each in uniq_coms:\n",
    "    com = louvain_df[louvain_df.communityId == each]\n",
    "    com_list.append(com['nodeId'])\n",
    "    \n",
    "for each in com_list:\n",
    "    size_list.append(len(each))\n",
    "\n",
    "com_size = pd.DataFrame({'communityId': uniq_coms, 'communitySize' : size_list}).sort_values(\"communitySize\", ascending=False)\n",
    "com_size.head(10)"
   ]
  },
  {
   "cell_type": "code",
   "execution_count": 102,
   "metadata": {},
   "outputs": [
    {
     "data": {
      "text/plain": [
       "5856"
      ]
     },
     "execution_count": 102,
     "metadata": {},
     "output_type": "execute_result"
    }
   ],
   "source": [
    "totCom = len(com_size)\n",
    "totCom"
   ]
  },
  {
   "cell_type": "markdown",
   "metadata": {},
   "source": [
    "## Modularity Optimization CD Algorithm"
   ]
  },
  {
   "cell_type": "markdown",
   "metadata": {},
   "source": [
    "Detect communities in the graph based on their modularity\n"
   ]
  },
  {
   "cell_type": "code",
   "execution_count": 103,
   "metadata": {},
   "outputs": [],
   "source": [
    "# Running Louvain CD Alogirthm\n",
    "modOp_df = gds.beta.modularityOptimization.stream(G,  relationshipWeightProperty = None, maxIterations = 10, tolerance = .0001)"
   ]
  },
  {
   "cell_type": "code",
   "execution_count": 110,
   "metadata": {},
   "outputs": [
    {
     "data": {
      "text/html": [
       "<div>\n",
       "<style scoped>\n",
       "    .dataframe tbody tr th:only-of-type {\n",
       "        vertical-align: middle;\n",
       "    }\n",
       "\n",
       "    .dataframe tbody tr th {\n",
       "        vertical-align: top;\n",
       "    }\n",
       "\n",
       "    .dataframe thead th {\n",
       "        text-align: right;\n",
       "    }\n",
       "</style>\n",
       "<table border=\"1\" class=\"dataframe\">\n",
       "  <thead>\n",
       "    <tr style=\"text-align: right;\">\n",
       "      <th></th>\n",
       "      <th>communityId</th>\n",
       "      <th>communitySize</th>\n",
       "    </tr>\n",
       "  </thead>\n",
       "  <tbody>\n",
       "    <tr>\n",
       "      <th>87215</th>\n",
       "      <td>308161</td>\n",
       "      <td>54</td>\n",
       "    </tr>\n",
       "    <tr>\n",
       "      <th>59834</th>\n",
       "      <td>213874</td>\n",
       "      <td>40</td>\n",
       "    </tr>\n",
       "    <tr>\n",
       "      <th>70825</th>\n",
       "      <td>256188</td>\n",
       "      <td>38</td>\n",
       "    </tr>\n",
       "    <tr>\n",
       "      <th>98029</th>\n",
       "      <td>343238</td>\n",
       "      <td>32</td>\n",
       "    </tr>\n",
       "    <tr>\n",
       "      <th>97649</th>\n",
       "      <td>341994</td>\n",
       "      <td>29</td>\n",
       "    </tr>\n",
       "    <tr>\n",
       "      <th>69818</th>\n",
       "      <td>252434</td>\n",
       "      <td>18</td>\n",
       "    </tr>\n",
       "    <tr>\n",
       "      <th>149619</th>\n",
       "      <td>489837</td>\n",
       "      <td>17</td>\n",
       "    </tr>\n",
       "    <tr>\n",
       "      <th>117823</th>\n",
       "      <td>404936</td>\n",
       "      <td>16</td>\n",
       "    </tr>\n",
       "    <tr>\n",
       "      <th>146120</th>\n",
       "      <td>479094</td>\n",
       "      <td>14</td>\n",
       "    </tr>\n",
       "    <tr>\n",
       "      <th>69471</th>\n",
       "      <td>251087</td>\n",
       "      <td>14</td>\n",
       "    </tr>\n",
       "  </tbody>\n",
       "</table>\n",
       "</div>"
      ],
      "text/plain": [
       "        communityId  communitySize\n",
       "87215        308161             54\n",
       "59834        213874             40\n",
       "70825        256188             38\n",
       "98029        343238             32\n",
       "97649        341994             29\n",
       "69818        252434             18\n",
       "149619       489837             17\n",
       "117823       404936             16\n",
       "146120       479094             14\n",
       "69471        251087             14"
      ]
     },
     "execution_count": 110,
     "metadata": {},
     "output_type": "execute_result"
    }
   ],
   "source": [
    "# Creating a dataframe with the size of each community\n",
    "uniq_coms = sorted(list(set(modOp_df[\"communityId\"])))\n",
    "\n",
    "com_list = []\n",
    "size_list = []\n",
    "\n",
    "for each in uniq_coms:\n",
    "    com = modOp_df[modOp_df.communityId == each]\n",
    "    com_list.append(com['nodeId'])\n",
    "    \n",
    "for each in com_list:\n",
    "    size_list.append(len(each))\n",
    "\n",
    "com_size = pd.DataFrame({'communityId': uniq_coms, 'communitySize' : size_list}).sort_values(\"communitySize\", ascending=False)\n",
    "com_size.head(10)"
   ]
  },
  {
   "cell_type": "code",
   "execution_count": 113,
   "metadata": {},
   "outputs": [
    {
     "data": {
      "text/plain": [
       "167296"
      ]
     },
     "execution_count": 113,
     "metadata": {},
     "output_type": "execute_result"
    }
   ],
   "source": [
    "totCom = len(com_size)\n",
    "totCom"
   ]
  },
  {
   "cell_type": "markdown",
   "metadata": {},
   "source": [
    "## Label Propagation CD Algorithm"
   ]
  },
  {
   "cell_type": "markdown",
   "metadata": {},
   "source": [
    "A fast algorithm for finding communities in a graph\n"
   ]
  },
  {
   "cell_type": "code",
   "execution_count": 111,
   "metadata": {},
   "outputs": [],
   "source": [
    "# Running Louvain CD Alogirthm\n",
    "labProp_df = gds.labelPropagation.stream(G,  relationshipWeightProperty = None)"
   ]
  },
  {
   "cell_type": "code",
   "execution_count": 114,
   "metadata": {},
   "outputs": [
    {
     "data": {
      "text/html": [
       "<div>\n",
       "<style scoped>\n",
       "    .dataframe tbody tr th:only-of-type {\n",
       "        vertical-align: middle;\n",
       "    }\n",
       "\n",
       "    .dataframe tbody tr th {\n",
       "        vertical-align: top;\n",
       "    }\n",
       "\n",
       "    .dataframe thead th {\n",
       "        text-align: right;\n",
       "    }\n",
       "</style>\n",
       "<table border=\"1\" class=\"dataframe\">\n",
       "  <thead>\n",
       "    <tr style=\"text-align: right;\">\n",
       "      <th></th>\n",
       "      <th>communityId</th>\n",
       "      <th>communitySize</th>\n",
       "    </tr>\n",
       "  </thead>\n",
       "  <tbody>\n",
       "    <tr>\n",
       "      <th>634</th>\n",
       "      <td>19334</td>\n",
       "      <td>6385</td>\n",
       "    </tr>\n",
       "    <tr>\n",
       "      <th>342</th>\n",
       "      <td>6917</td>\n",
       "      <td>4240</td>\n",
       "    </tr>\n",
       "    <tr>\n",
       "      <th>13990</th>\n",
       "      <td>253031</td>\n",
       "      <td>3631</td>\n",
       "    </tr>\n",
       "    <tr>\n",
       "      <th>404</th>\n",
       "      <td>9410</td>\n",
       "      <td>3272</td>\n",
       "    </tr>\n",
       "    <tr>\n",
       "      <th>14659</th>\n",
       "      <td>261580</td>\n",
       "      <td>2447</td>\n",
       "    </tr>\n",
       "    <tr>\n",
       "      <th>19874</th>\n",
       "      <td>354491</td>\n",
       "      <td>2407</td>\n",
       "    </tr>\n",
       "    <tr>\n",
       "      <th>30</th>\n",
       "      <td>386</td>\n",
       "      <td>2309</td>\n",
       "    </tr>\n",
       "    <tr>\n",
       "      <th>406</th>\n",
       "      <td>9448</td>\n",
       "      <td>2303</td>\n",
       "    </tr>\n",
       "    <tr>\n",
       "      <th>1034</th>\n",
       "      <td>31477</td>\n",
       "      <td>2248</td>\n",
       "    </tr>\n",
       "    <tr>\n",
       "      <th>14661</th>\n",
       "      <td>265619</td>\n",
       "      <td>1937</td>\n",
       "    </tr>\n",
       "  </tbody>\n",
       "</table>\n",
       "</div>"
      ],
      "text/plain": [
       "       communityId  communitySize\n",
       "634          19334           6385\n",
       "342           6917           4240\n",
       "13990       253031           3631\n",
       "404           9410           3272\n",
       "14659       261580           2447\n",
       "19874       354491           2407\n",
       "30             386           2309\n",
       "406           9448           2303\n",
       "1034         31477           2248\n",
       "14661       265619           1937"
      ]
     },
     "execution_count": 114,
     "metadata": {},
     "output_type": "execute_result"
    }
   ],
   "source": [
    "# Creating a dataframe with the size of each community\n",
    "uniq_coms = sorted(list(set(labProp_df[\"communityId\"])))\n",
    "\n",
    "com_list = []\n",
    "size_list = []\n",
    "\n",
    "for each in uniq_coms:\n",
    "    com = labProp_df[labProp_df.communityId == each]\n",
    "    com_list.append(com['nodeId'])\n",
    "    \n",
    "for each in com_list:\n",
    "    size_list.append(len(each))\n",
    "\n",
    "com_size = pd.DataFrame({'communityId': uniq_coms, 'communitySize' : size_list}).sort_values(\"communitySize\", ascending=False)\n",
    "com_size.head(10)"
   ]
  },
  {
   "cell_type": "code",
   "execution_count": 115,
   "metadata": {},
   "outputs": [
    {
     "data": {
      "text/plain": [
       "28096"
      ]
     },
     "execution_count": 115,
     "metadata": {},
     "output_type": "execute_result"
    }
   ],
   "source": [
    "totCom = len(com_size)\n",
    "totCom"
   ]
  }
 ],
 "metadata": {
  "kernelspec": {
   "display_name": "Python 3.8.11 ('base')",
   "language": "python",
   "name": "python3"
  },
  "language_info": {
   "codemirror_mode": {
    "name": "ipython",
    "version": 3
   },
   "file_extension": ".py",
   "mimetype": "text/x-python",
   "name": "python",
   "nbconvert_exporter": "python",
   "pygments_lexer": "ipython3",
   "version": "3.8.11"
  },
  "orig_nbformat": 4,
  "vscode": {
   "interpreter": {
    "hash": "7c8b726271ed6ed960711da3bce348e75e217024487f5b7a5cbbc5668f487dc0"
   }
  }
 },
 "nbformat": 4,
 "nbformat_minor": 2
}
